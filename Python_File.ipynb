{
  "nbformat": 4,
  "nbformat_minor": 0,
  "metadata": {
    "colab": {
      "name": "Whirlpool Python File.ipynb",
      "provenance": [],
      "collapsed_sections": []
    },
    "kernelspec": {
      "name": "python3",
      "display_name": "Python 3"
    },
    "language_info": {
      "name": "python"
    }
  },
  "cells": [
    {
      "cell_type": "markdown",
      "metadata": {
        "id": "5EIAiak1UVPB"
      },
      "source": [
        "**#LOAD LIBRARIES**"
      ]
    },
    {
      "cell_type": "code",
      "metadata": {
        "id": "i7_PfI1RUKQJ"
      },
      "source": [
        "import numpy as np # linear algebra\n",
        "import pandas as pd # data processing, CSV file I/O (e.g. pd.read_csv)\n",
        "import seaborn as sns #data vizualization\n",
        "\n",
        "# Input data files are available in the \"../input/\" directory.\n",
        "\n",
        "import os\n",
        "for dirname, _, filenames in os.walk('/content/'):\n",
        "    for filename in filenames:\n",
        "        print(os.path.join(dirname, filename))\n"
      ],
      "execution_count": null,
      "outputs": []
    },
    {
      "cell_type": "markdown",
      "metadata": {
        "id": "mVmwEsr_UrsY"
      },
      "source": [
        "**#Read in Data**"
      ]
    },
    {
      "cell_type": "code",
      "metadata": {
        "id": "Gf3Il-2PUt-w"
      },
      "source": [
        "#read in the data dictionary  \n",
        "data_dictionary = pd.ExcelFile('/content/User Guide (1).xlsx')"
      ],
      "execution_count": null,
      "outputs": []
    },
    {
      "cell_type": "code",
      "metadata": {
        "id": "w8UTcQWXUwzB"
      },
      "source": [
        "# Print sheet names\n",
        "#print(data_dictionary.sheet_names)\n",
        "#['Data Dictionary', 'App A1', 'App A2', 'App A3', 'App A4']\n",
        "\n",
        "#parse app1 and app2 \n",
        "app1 = data_dictionary.parse('App A1', skiprows=[0,1], names=['MA', 'State','CFS_AREA','MA_TYPE','MA_Description'])\n",
        "app2 = data_dictionary.parse('App A2', skiprows=[0], names=['NAICS', 'NAICS_Description'])\n",
        "app1.head()\n",
        "app2.head()"
      ],
      "execution_count": null,
      "outputs": []
    },
    {
      "cell_type": "code",
      "metadata": {
        "id": "gEQ8NnNOU0IQ"
      },
      "source": [
        "#read in app 3 and fill down file \n",
        "app3 = data_dictionary.parse('App A3', skiprows=[0], names=['Commodity_Code', 'Commodity_Description','Commodity_Group'])\n",
        "app3['Commodity_Group'] = app3['Commodity_Group'].ffill() #need to fill down the page \n",
        "app3['Commodity_Code'] = app3['Commodity_Code'].apply(lambda x: str(x))"
      ],
      "execution_count": null,
      "outputs": []
    },
    {
      "cell_type": "code",
      "metadata": {
        "id": "1CxdweH_U3eI"
      },
      "source": [
        "#app4 needs to be constructed from scratch \n",
        "# initialize list of lists \n",
        "data = [['02', 'Single Mode'], \n",
        "        ['03', 'Truck'],\n",
        "        ['04', 'For-hire Truck'],\n",
        "        ['05', 'Private Truck'],\n",
        "        ['06', 'Rail'],\n",
        "        ['07', 'Water'],\n",
        "        ['08', 'Inland Water'],\n",
        "        ['09', 'Great Lakes'],\n",
        "        ['10', 'Deep Sea'],\n",
        "        ['101', 'Multiple Waterways'],\n",
        "        ['11', 'Air'],\n",
        "        ['12', 'Pipeline'],\n",
        "        ['13', 'Multiple Mode'],\n",
        "        ['14', 'Parcel-USPS-Courier'],\n",
        "        ['20', 'Non-parcel multimode'],\n",
        "        ['15', 'Truck and Rail'],\n",
        "        ['16', 'Truck and Water'],\n",
        "        ['17', 'Rail and Water'],\n",
        "        ['18', 'Other Multiple Mode'],\n",
        "        ['09', 'Other Mode'],\n",
        "        ['00', 'Mode Suppressed']] \n",
        "  "
      ],
      "execution_count": null,
      "outputs": []
    },
    {
      "cell_type": "code",
      "metadata": {
        "id": "v9kBixJnU67g"
      },
      "source": [
        "# Create the pandas DataFrame \n",
        "app4 = pd.DataFrame(data, columns = ['Mode_Code', 'Mode_Description'])\n",
        "app3.head()"
      ],
      "execution_count": null,
      "outputs": []
    },
    {
      "cell_type": "code",
      "metadata": {
        "id": "5qERdH44U9NI"
      },
      "source": [
        "#read in the state names data for short hand reference if needed\n",
        "states = pd.read_csv('/content/state_code_to_name (1).csv')\n",
        "states.head()"
      ],
      "execution_count": null,
      "outputs": []
    },
    {
      "cell_type": "code",
      "metadata": {
        "id": "PPmELhF0U_O7"
      },
      "source": [
        "#read in the flat file for commodity flow survey \n",
        "cfs = pd.read_csv('/content/DB (2).csv')\n",
        "cfs.head()"
      ],
      "execution_count": null,
      "outputs": []
    },
    {
      "cell_type": "markdown",
      "metadata": {
        "id": "520lLYBkVDFK"
      },
      "source": [
        "**#EXPLORATORY DATA ANALYSIS**"
      ]
    },
    {
      "cell_type": "code",
      "metadata": {
        "id": "3Biu_nsGVGdZ"
      },
      "source": [
        "cfs.columns"
      ],
      "execution_count": null,
      "outputs": []
    },
    {
      "cell_type": "code",
      "metadata": {
        "id": "7Pzl9o7vVNyJ"
      },
      "source": [
        "cfs.isnull().sum()"
      ],
      "execution_count": null,
      "outputs": []
    },
    {
      "cell_type": "code",
      "metadata": {
        "id": "Jcj2-xBQVO-X"
      },
      "source": [
        "cfs['EXPORT_YN'].value_counts()\n",
        "cfs['EXPORT_CNTRY'].value_counts()"
      ],
      "execution_count": null,
      "outputs": []
    },
    {
      "cell_type": "code",
      "metadata": {
        "id": "UidqzwOjVVGi"
      },
      "source": [
        "cfs.drop([\n",
        "    'EXPORT_YN',\n",
        "    'EXPORT_CNTRY'\n",
        "], axis = 1, inplace = True)\n",
        "cfs.head()"
      ],
      "execution_count": null,
      "outputs": []
    },
    {
      "cell_type": "code",
      "metadata": {
        "id": "ZtIL196JVbdJ"
      },
      "source": [
        "#Analyzing the summary statistics\n",
        "\n",
        "cfs.describe(include='all')\n",
        "cfs.median()"
      ],
      "execution_count": null,
      "outputs": []
    },
    {
      "cell_type": "code",
      "metadata": {
        "id": "PMIrlXC_Vmhy"
      },
      "source": [
        "cfs.shape"
      ],
      "execution_count": null,
      "outputs": []
    },
    {
      "cell_type": "markdown",
      "metadata": {
        "id": "4V-6BIaxVpKi"
      },
      "source": [
        "**#CREATING THE CSV FINAL DATASET**"
      ]
    },
    {
      "cell_type": "code",
      "metadata": {
        "id": "qNAgY40kVvFR"
      },
      "source": [
        "#rename orig state \n",
        "cfs = pd.merge(cfs, states, how='left',left_on='ORIG_STATE', right_on='StateCode')\n",
        "cfs = cfs.rename(columns = {\"StateName\":\"ORIG_STATE_NAME\"}) \n",
        "del cfs['StateCode']\n",
        "del cfs['ORIG_STATE']\n",
        "\n",
        "cfs.head()"
      ],
      "execution_count": null,
      "outputs": []
    },
    {
      "cell_type": "code",
      "metadata": {
        "id": "2DMGbzEYV0iz"
      },
      "source": [
        "#rename destination state\n",
        "cfs = pd.merge(cfs, states, how='left',left_on='DEST_STATE', right_on='StateCode')\n",
        "cfs = cfs.rename(columns = {\"StateName\":\"DEST_STATE_NAME\"}) \n",
        "del cfs['StateCode']\n",
        "del cfs['DEST_STATE']\n",
        "\n",
        "cfs.head()"
      ],
      "execution_count": null,
      "outputs": []
    },
    {
      "cell_type": "code",
      "metadata": {
        "id": "dwsPWv6NV3JR"
      },
      "source": [
        "#replace NAICS with names\n",
        "cfs = pd.merge(cfs, app2, how='left',left_on='NAICS', right_on='NAICS')\n",
        "cfs = cfs.rename(columns = {\"NAICS_Description\":\"INDUSTRY_NAME\", \"NAICS\": \"INDUSTRY_CODE\"}) \n",
        "\n",
        "cfs.head("
      ],
      "execution_count": null,
      "outputs": []
    },
    {
      "cell_type": "code",
      "metadata": {
        "id": "B6SWdR3RV5cg"
      },
      "source": [
        "#Merge the commodity code with description\n",
        "app3['Commodity_Code']=app3['Commodity_Code'].astype(int)\n",
        "cfs = pd.merge(cfs, app3, how='left',left_on='SCTG', right_on='Commodity_Code')\n",
        "cfs = cfs.rename(columns = {\"Commodity_Description\":\"COMMODITY_DESCRIPTION\"}) \n",
        "del cfs['SCTG']\n",
        "\n",
        "cfs.head()"
      ],
      "execution_count": null,
      "outputs": []
    },
    {
      "cell_type": "code",
      "metadata": {
        "id": "Iy2T-m9WV7S6"
      },
      "source": [
        "# Adding the mode of shipment\n",
        "app4['Mode_Code']=app4['Mode_Code'].astype(int)\n",
        "cfs = pd.merge(cfs, app4, how='left',left_on='MODE', right_on='Mode_Code')\n",
        "cfs = cfs.rename(columns = {\"Mode_Description\":\"MODE OF SHIPPING\"}) \n",
        "del cfs['MODE']\n",
        "\n",
        "\n",
        "cfs.head()"
      ],
      "execution_count": null,
      "outputs": []
    },
    {
      "cell_type": "code",
      "metadata": {
        "id": "LhkV5r09V9MR"
      },
      "source": [
        "#Rename certain column names\n",
        "cfs = cfs.rename({'ORIG_MA': 'ORIG_METRO_AREA', 'ORIG_CFS_AREA': 'ORIG_COMMODITY_AREA', 'DEST_MA': 'DEST_METRO_AREA', 'DEST_CFS_AREA': 'DEST_COMMODITY_AREA', 'SHIPMT_DIST_GC': 'SHIPMT_DIST_ORIG-DEST', 'WGT_FACTOR': 'SHIPMT_WGT_FACTOR' }, axis=1) \n",
        "cfs.head()"
      ],
      "execution_count": null,
      "outputs": []
    },
    {
      "cell_type": "code",
      "metadata": {
        "id": "MSmmZHj0WBVy"
      },
      "source": [
        "#Download file as CSV\n",
        "cfs.to_csv(r'/content/Whirlpool DB.csv', index = False)"
      ],
      "execution_count": null,
      "outputs": []
    },
    {
      "cell_type": "markdown",
      "metadata": {
        "id": "OpXnFMyMWFeh"
      },
      "source": [
        "**#READING THE FINAL DATASET **"
      ]
    },
    {
      "cell_type": "code",
      "metadata": {
        "id": "ZAFuiP8MWI5k"
      },
      "source": [
        "Final_DB = pd.read_csv('/content/Whirlpool DB.csv')\n",
        "Final_DB.head()"
      ],
      "execution_count": null,
      "outputs": []
    },
    {
      "cell_type": "markdown",
      "metadata": {
        "id": "3YSno-VpWM_j"
      },
      "source": [
        "**Question 1: Which are the American States with the most exchanges of products based on weight?**"
      ]
    },
    {
      "cell_type": "code",
      "metadata": {
        "id": "k5Ifo193WOXL"
      },
      "source": [
        "shipments = (Final_DB.groupby('DEST_STATE_NAME')\n",
        ".agg({'Commodity_Code':'count', 'SHIPMT_WGHT': 'sum'})\n",
        ".reset_index().sort_values(by= 'Commodity_Code', ascending= False))\n",
        "shipments.head()"
      ],
      "execution_count": null,
      "outputs": []
    },
    {
      "cell_type": "markdown",
      "metadata": {
        "id": "1WQbuSclWUg0"
      },
      "source": [
        "**QUESTION 2: Which Industries ship more goods across the US?**"
      ]
    },
    {
      "cell_type": "code",
      "metadata": {
        "id": "k4t6taAlWSUa"
      },
      "source": [
        "Industries = Final_DB.groupby(['INDUSTRY_NAME'])['Commodity_Code'].count().reset_index().sort_values(by= 'Commodity_Code', ascending= False)\n",
        "Industries.head()"
      ],
      "execution_count": null,
      "outputs": []
    },
    {
      "cell_type": "markdown",
      "metadata": {
        "id": "QpG4eB8lWYzb"
      },
      "source": [
        "**Question 3: What type of goods are the most shipped across the US?**"
      ]
    },
    {
      "cell_type": "code",
      "metadata": {
        "id": "SuzZdeIgWbAq"
      },
      "source": [
        "goods = Final_DB.groupby(['COMMODITY_DESCRIPTION'])['Commodity_Code'].count().reset_index().sort_values(by= 'Commodity_Code', ascending= False)\n",
        "goods.head()"
      ],
      "execution_count": null,
      "outputs": []
    },
    {
      "cell_type": "markdown",
      "metadata": {
        "id": "o0XaH_3rWelU"
      },
      "source": [
        "**Question 4: Knowing that Whirlpool and KitchenAid belong to the Industrial Classification \"Electrical equipment, appliance, and component manufacturing\", and we mainly ship \"Electronic and Other Electrical Equipment and Components, and Office Equipment\" how this subset compares with the rest?**"
      ]
    },
    {
      "cell_type": "code",
      "metadata": {
        "id": "D01y2INlWhi7"
      },
      "source": [
        "cfs1 = Final_DB[(Final_DB['Commodity_Group'] == '35-38')]\n",
        "cfs1.head()\n",
        "\n",
        "\n",
        "KitchenAid = (cfs1.groupby('COMMODITY_DESCRIPTION')\n",
        ".agg({'Commodity_Code':'count', 'SHIPMT_VALUE': 'mean'})\n",
        ".reset_index().sort_values(by= 'Commodity_Code', ascending= False))\n",
        "KitchenAid.head()"
      ],
      "execution_count": null,
      "outputs": []
    },
    {
      "cell_type": "markdown",
      "metadata": {
        "id": "sP6jtf2gWqH9"
      },
      "source": [
        "**Question 5: What are the drivers of the shipment cost given the dataset provided?**\n"
      ]
    },
    {
      "cell_type": "code",
      "metadata": {
        "id": "IuMTHf0JWt5r"
      },
      "source": [
        "#Finding the correlation Using Pearsons Coeff\n",
        "\n",
        "import matplotlib.pyplot as plt\n",
        "plt.figure(figsize=(12,10))\n",
        "cor =   Final_DB.corr()\n",
        "sns.heatmap(cor, annot=True, cmap=plt.cm.Reds)\n",
        "plt.show()"
      ],
      "execution_count": null,
      "outputs": []
    },
    {
      "cell_type": "code",
      "metadata": {
        "id": "5-1FwLVnW8Yj"
      },
      "source": [
        "#Correlation with output variable\n",
        "cor_target = abs(cor[\"SHIPMT_COST\"])\n",
        "#Selecting highly correlated features\n",
        "relevant_features = cor_target[cor_target>0.3]\n",
        "relevant_features"
      ],
      "execution_count": null,
      "outputs": []
    },
    {
      "cell_type": "markdown",
      "metadata": {
        "id": "IgOPmRe1W-ej"
      },
      "source": [
        "**Question 6: What could be some metrics to compare the various industries? explain how they are defined and why they are important**"
      ]
    },
    {
      "cell_type": "code",
      "metadata": {
        "id": "WlApClGpXCKV"
      },
      "source": [
        "shipmt_by_country = Final_DB.groupby( by = ['INDUSTRY_NAME']).agg({'Commodity_Code':'count','SHIPMT_VALUE': 'mean', 'SHIPMT_COST': 'sum', 'SHIPMT_WGHT': 'mean'}).reset_index().sort_values(by= 'SHIPMT_VALUE',ascending= False)\n",
        "shipmt_by_country.head()"
      ],
      "execution_count": null,
      "outputs": []
    },
    {
      "cell_type": "code",
      "metadata": {
        "id": "qFA8EiUWXGCc"
      },
      "source": [
        "#Finding the most used means of transport per industry\n",
        "\n",
        "mode_of_trans = Final_DB.groupby( by = ['INDUSTRY_NAME', 'MODE OF SHIPPING'])['Mode_Code'].count().reset_index().sort_values(by= 'Mode_Code',ascending= False)\n",
        "mode_of_trans.head()\n",
        "\n",
        "#We can observe that most of the industries use FOR-HIRE TRUCK as the means of transport"
      ],
      "execution_count": null,
      "outputs": []
    },
    {
      "cell_type": "markdown",
      "metadata": {
        "id": "KHHlqCqvXe-D"
      },
      "source": [
        "**Question 7: How KitchenAid industry compares to the others based on the metrics defined before**"
      ]
    },
    {
      "cell_type": "code",
      "metadata": {
        "id": "XzZCd2HcXizG"
      },
      "source": [
        "shipmt_by_KitchenAid = cfs1.groupby(['COMMODITY_DESCRIPTION']).agg({'Commodity_Code':'count','SHIPMT_VALUE': 'mean', 'SHIPMT_COST': 'sum', 'SHIPMT_WGHT': 'mean'}).reset_index().sort_values(by= 'SHIPMT_VALUE',ascending= False)\n",
        "shipmt_by_KitchenAid.head()"
      ],
      "execution_count": null,
      "outputs": []
    },
    {
      "cell_type": "code",
      "metadata": {
        "id": "UK0EP_VUXkpt"
      },
      "source": [
        "#Even for KitchenAid we can observe that FOR-HIRE TRUCK are the most used means of transport\n",
        "\n",
        "mode_of_trans1 = cfs1.groupby( by = ['COMMODITY_DESCRIPTION', 'MODE OF SHIPPING'])['Mode_Code'].count().reset_index().sort_values(by= 'Mode_Code',ascending= False)\n",
        "mode_of_trans1.head()"
      ],
      "execution_count": null,
      "outputs": []
    },
    {
      "cell_type": "markdown",
      "metadata": {
        "id": "wjIvTYSCXzOu"
      },
      "source": [
        "                                          ********************************************************************************\n",
        "\n",
        "\n"
      ]
    }
  ]
}